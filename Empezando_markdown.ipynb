{
 "cells": [
  {
   "cell_type": "markdown",
   "id": "f141dd02",
   "metadata": {},
   "source": [
    "#Codigo para operar dos numeros:\n",
    "##codigopara la suma:"
   ]
  },
  {
   "cell_type": "markdown",
   "id": "9bc0fdcb",
   "metadata": {},
   "source": [
    "# Codigo para operar dos numeros:\n",
    "## codigos para realizar una suma:\n",
    "La siguiente linea de **codigo** asigna el valor 5 para la variable **x**:\n",
    "\n",
    "\n",
    "\n",
    "## IMAGENES\n",
    "![flash en cartoon](https://scontent.flim17-1.fna.fbcdn.net/v/t1.18169-9/971575_195375660633278_1295686851_n.jpg?_nc_cat=110&ccb=1-3&_nc_sid=cdbe9c&_nc_eui2=AeFuMQ1g3y35noRxwV_Br4PLMx1fdMEcE0szHV90wRwTSwenvnsOaVj1yp4GJJT3hqLStROT8RF0yeVoE7Ym1sBa&_nc_ohc=adfDvJMW6t4AX-CqVRj&_nc_ht=scontent.flim17-1.fna&oh=e5528ed2f10eeab1b4414bb7dff7f55c&oe=60F7B6C2 \"flash en un carrito\")\n",
    "\n",
    "## citar\n",
    "\n",
    ">This is my candid letter of resignation to my Harvard Dean. I try to tell the unvarnished truth about the decadence in our market-driven  universities! Let us bear witness against this spiritual rot!\n",
    ">\n",
    ">[Cornel West](https://twitter.com/CornelWest)\n",
    "\n",
    "## Incertar una imagen desde escritorio\n",
    "\n",
    "## Linea hrizontal\n",
    "---\n",
    "\n",
    "## Tablas:\n",
    "\n",
    "|tables  | are    |cool   |\n",
    "|:------ |:------:|------:|\n",
    "|tables  | are    |cool   |\n",
    "|tables  | are    |cool   |\n",
    "|tables  | are    |cool   |\n",
    "\n",
    "## html\n"
   ]
  },
  {
   "cell_type": "code",
   "execution_count": 2,
   "id": "84a27ca7",
   "metadata": {},
   "outputs": [],
   "source": [
    "def SumDos(a,b):\n",
    "    return a+b\n",
    "    print"
   ]
  },
  {
   "cell_type": "markdown",
   "id": "e3038469",
   "metadata": {},
   "source": []
  }
 ],
 "metadata": {
  "kernelspec": {
   "display_name": "Python 3",
   "language": "python",
   "name": "python3"
  },
  "language_info": {
   "codemirror_mode": {
    "name": "ipython",
    "version": 3
   },
   "file_extension": ".py",
   "mimetype": "text/x-python",
   "name": "python",
   "nbconvert_exporter": "python",
   "pygments_lexer": "ipython3",
   "version": "3.8.8"
  }
 },
 "nbformat": 4,
 "nbformat_minor": 5
}
